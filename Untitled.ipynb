{
 "cells": [
  {
   "cell_type": "code",
   "execution_count": 1,
   "metadata": {},
   "outputs": [],
   "source": [
    "import os\n",
    "import pandas as pd\n",
    "import numpy as np\n",
    "import matplotlib.pyplot as plt"
   ]
  },
  {
   "cell_type": "code",
   "execution_count": 4,
   "metadata": {},
   "outputs": [],
   "source": [
    "path = '25629'\n",
    "params = [\n",
    "    '6158',\n",
    "    '6159',\n",
    "    '6160',\n",
    "    '6161',\n",
    "    '6162',\n",
    "    '6163',\n",
    "    '5257',\n",
    "    '5318'\n",
    "]"
   ]
  },
  {
   "cell_type": "code",
   "execution_count": 2,
   "metadata": {},
   "outputs": [],
   "source": [
    "dt_1 = np.dtype([\n",
    "    ('f0', 'u4'),\n",
    "    ('f1', 'f8'),\n",
    "    ('f2', 'u4'),\n",
    "    ('f3', 'u8'),\n",
    "    ('f4', 'u4'),\n",
    "    ('f5', 'u4'),\n",
    "                ])"
   ]
  },
  {
   "cell_type": "code",
   "execution_count": 9,
   "metadata": {},
   "outputs": [],
   "source": [
    "data = np.fromfile(path + '/' + '2099' + '_' + path + '_00', dtype=dt_1)"
   ]
  },
  {
   "cell_type": "code",
   "execution_count": 10,
   "metadata": {},
   "outputs": [
    {
     "data": {
      "text/html": [
       "<div>\n",
       "<style scoped>\n",
       "    .dataframe tbody tr th:only-of-type {\n",
       "        vertical-align: middle;\n",
       "    }\n",
       "\n",
       "    .dataframe tbody tr th {\n",
       "        vertical-align: top;\n",
       "    }\n",
       "\n",
       "    .dataframe thead th {\n",
       "        text-align: right;\n",
       "    }\n",
       "</style>\n",
       "<table border=\"1\" class=\"dataframe\">\n",
       "  <thead>\n",
       "    <tr style=\"text-align: right;\">\n",
       "      <th></th>\n",
       "      <th>f0</th>\n",
       "      <th>f1</th>\n",
       "      <th>f2</th>\n",
       "      <th>f3</th>\n",
       "      <th>f4</th>\n",
       "      <th>f5</th>\n",
       "    </tr>\n",
       "  </thead>\n",
       "  <tbody>\n",
       "    <tr>\n",
       "      <th>0</th>\n",
       "      <td>4004018197</td>\n",
       "      <td>0.0717</td>\n",
       "      <td>133171</td>\n",
       "      <td>6</td>\n",
       "      <td>0</td>\n",
       "      <td>1979711488</td>\n",
       "    </tr>\n",
       "    <tr>\n",
       "      <th>1</th>\n",
       "      <td>4004018197</td>\n",
       "      <td>0.5837</td>\n",
       "      <td>133171</td>\n",
       "      <td>7</td>\n",
       "      <td>0</td>\n",
       "      <td>1996488704</td>\n",
       "    </tr>\n",
       "    <tr>\n",
       "      <th>2</th>\n",
       "      <td>4004018197</td>\n",
       "      <td>1.0957</td>\n",
       "      <td>133171</td>\n",
       "      <td>8</td>\n",
       "      <td>0</td>\n",
       "      <td>2013265920</td>\n",
       "    </tr>\n",
       "    <tr>\n",
       "      <th>3</th>\n",
       "      <td>4004018197</td>\n",
       "      <td>1.6077</td>\n",
       "      <td>133171</td>\n",
       "      <td>9</td>\n",
       "      <td>0</td>\n",
       "      <td>2030043136</td>\n",
       "    </tr>\n",
       "    <tr>\n",
       "      <th>4</th>\n",
       "      <td>4004018197</td>\n",
       "      <td>2.1197</td>\n",
       "      <td>133171</td>\n",
       "      <td>10</td>\n",
       "      <td>0</td>\n",
       "      <td>2046820352</td>\n",
       "    </tr>\n",
       "    <tr>\n",
       "      <th>5</th>\n",
       "      <td>4004018197</td>\n",
       "      <td>2.6317</td>\n",
       "      <td>133171</td>\n",
       "      <td>11</td>\n",
       "      <td>0</td>\n",
       "      <td>2063597568</td>\n",
       "    </tr>\n",
       "    <tr>\n",
       "      <th>6</th>\n",
       "      <td>4004018197</td>\n",
       "      <td>3.1437</td>\n",
       "      <td>133171</td>\n",
       "      <td>12</td>\n",
       "      <td>0</td>\n",
       "      <td>2080374784</td>\n",
       "    </tr>\n",
       "    <tr>\n",
       "      <th>7</th>\n",
       "      <td>4004018197</td>\n",
       "      <td>3.6557</td>\n",
       "      <td>133171</td>\n",
       "      <td>13</td>\n",
       "      <td>0</td>\n",
       "      <td>2097152000</td>\n",
       "    </tr>\n",
       "    <tr>\n",
       "      <th>8</th>\n",
       "      <td>4004018197</td>\n",
       "      <td>4.1677</td>\n",
       "      <td>133171</td>\n",
       "      <td>14</td>\n",
       "      <td>0</td>\n",
       "      <td>2113929216</td>\n",
       "    </tr>\n",
       "    <tr>\n",
       "      <th>9</th>\n",
       "      <td>4004018197</td>\n",
       "      <td>4.6797</td>\n",
       "      <td>133171</td>\n",
       "      <td>15</td>\n",
       "      <td>0</td>\n",
       "      <td>2130706432</td>\n",
       "    </tr>\n",
       "    <tr>\n",
       "      <th>10</th>\n",
       "      <td>4004018197</td>\n",
       "      <td>5.1917</td>\n",
       "      <td>133171</td>\n",
       "      <td>0</td>\n",
       "      <td>0</td>\n",
       "      <td>1879048192</td>\n",
       "    </tr>\n",
       "    <tr>\n",
       "      <th>11</th>\n",
       "      <td>4004018197</td>\n",
       "      <td>5.7037</td>\n",
       "      <td>133171</td>\n",
       "      <td>1</td>\n",
       "      <td>0</td>\n",
       "      <td>1895825408</td>\n",
       "    </tr>\n",
       "    <tr>\n",
       "      <th>12</th>\n",
       "      <td>4004018197</td>\n",
       "      <td>6.2157</td>\n",
       "      <td>133171</td>\n",
       "      <td>2</td>\n",
       "      <td>0</td>\n",
       "      <td>1912602624</td>\n",
       "    </tr>\n",
       "    <tr>\n",
       "      <th>13</th>\n",
       "      <td>4004018197</td>\n",
       "      <td>6.7277</td>\n",
       "      <td>133171</td>\n",
       "      <td>3</td>\n",
       "      <td>0</td>\n",
       "      <td>1929379840</td>\n",
       "    </tr>\n",
       "    <tr>\n",
       "      <th>14</th>\n",
       "      <td>4004018197</td>\n",
       "      <td>7.2397</td>\n",
       "      <td>133171</td>\n",
       "      <td>4</td>\n",
       "      <td>0</td>\n",
       "      <td>1946157056</td>\n",
       "    </tr>\n",
       "    <tr>\n",
       "      <th>15</th>\n",
       "      <td>4004018197</td>\n",
       "      <td>7.7517</td>\n",
       "      <td>133171</td>\n",
       "      <td>5</td>\n",
       "      <td>0</td>\n",
       "      <td>1962934272</td>\n",
       "    </tr>\n",
       "    <tr>\n",
       "      <th>16</th>\n",
       "      <td>4004018197</td>\n",
       "      <td>8.2637</td>\n",
       "      <td>133171</td>\n",
       "      <td>6</td>\n",
       "      <td>0</td>\n",
       "      <td>1979711488</td>\n",
       "    </tr>\n",
       "    <tr>\n",
       "      <th>17</th>\n",
       "      <td>4004018197</td>\n",
       "      <td>8.7757</td>\n",
       "      <td>133171</td>\n",
       "      <td>7</td>\n",
       "      <td>0</td>\n",
       "      <td>1996488704</td>\n",
       "    </tr>\n",
       "    <tr>\n",
       "      <th>18</th>\n",
       "      <td>4004018197</td>\n",
       "      <td>9.2877</td>\n",
       "      <td>133171</td>\n",
       "      <td>8</td>\n",
       "      <td>0</td>\n",
       "      <td>2013265920</td>\n",
       "    </tr>\n",
       "    <tr>\n",
       "      <th>19</th>\n",
       "      <td>4004018197</td>\n",
       "      <td>9.7997</td>\n",
       "      <td>133171</td>\n",
       "      <td>9</td>\n",
       "      <td>0</td>\n",
       "      <td>2030043136</td>\n",
       "    </tr>\n",
       "    <tr>\n",
       "      <th>20</th>\n",
       "      <td>4004018197</td>\n",
       "      <td>10.3117</td>\n",
       "      <td>133171</td>\n",
       "      <td>10</td>\n",
       "      <td>0</td>\n",
       "      <td>2046820352</td>\n",
       "    </tr>\n",
       "    <tr>\n",
       "      <th>21</th>\n",
       "      <td>4004018197</td>\n",
       "      <td>10.8237</td>\n",
       "      <td>133171</td>\n",
       "      <td>11</td>\n",
       "      <td>0</td>\n",
       "      <td>2063597568</td>\n",
       "    </tr>\n",
       "    <tr>\n",
       "      <th>22</th>\n",
       "      <td>4004018197</td>\n",
       "      <td>11.3357</td>\n",
       "      <td>133171</td>\n",
       "      <td>12</td>\n",
       "      <td>0</td>\n",
       "      <td>2080374784</td>\n",
       "    </tr>\n",
       "    <tr>\n",
       "      <th>23</th>\n",
       "      <td>4004018197</td>\n",
       "      <td>11.8477</td>\n",
       "      <td>133171</td>\n",
       "      <td>13</td>\n",
       "      <td>0</td>\n",
       "      <td>2097152000</td>\n",
       "    </tr>\n",
       "    <tr>\n",
       "      <th>24</th>\n",
       "      <td>4004018197</td>\n",
       "      <td>12.3596</td>\n",
       "      <td>133171</td>\n",
       "      <td>14</td>\n",
       "      <td>0</td>\n",
       "      <td>2113929216</td>\n",
       "    </tr>\n",
       "    <tr>\n",
       "      <th>25</th>\n",
       "      <td>4004018197</td>\n",
       "      <td>12.8716</td>\n",
       "      <td>133171</td>\n",
       "      <td>15</td>\n",
       "      <td>0</td>\n",
       "      <td>2130706432</td>\n",
       "    </tr>\n",
       "    <tr>\n",
       "      <th>26</th>\n",
       "      <td>4004018197</td>\n",
       "      <td>13.3836</td>\n",
       "      <td>133171</td>\n",
       "      <td>0</td>\n",
       "      <td>0</td>\n",
       "      <td>1879048192</td>\n",
       "    </tr>\n",
       "    <tr>\n",
       "      <th>27</th>\n",
       "      <td>4004018197</td>\n",
       "      <td>13.8956</td>\n",
       "      <td>133171</td>\n",
       "      <td>1</td>\n",
       "      <td>0</td>\n",
       "      <td>1895825408</td>\n",
       "    </tr>\n",
       "    <tr>\n",
       "      <th>28</th>\n",
       "      <td>4004018197</td>\n",
       "      <td>14.4076</td>\n",
       "      <td>133171</td>\n",
       "      <td>2</td>\n",
       "      <td>0</td>\n",
       "      <td>1912602624</td>\n",
       "    </tr>\n",
       "    <tr>\n",
       "      <th>29</th>\n",
       "      <td>4004018197</td>\n",
       "      <td>14.9196</td>\n",
       "      <td>133171</td>\n",
       "      <td>3</td>\n",
       "      <td>0</td>\n",
       "      <td>1929379840</td>\n",
       "    </tr>\n",
       "  </tbody>\n",
       "</table>\n",
       "</div>"
      ],
      "text/plain": [
       "            f0       f1      f2  f3  f4          f5\n",
       "0   4004018197   0.0717  133171   6   0  1979711488\n",
       "1   4004018197   0.5837  133171   7   0  1996488704\n",
       "2   4004018197   1.0957  133171   8   0  2013265920\n",
       "3   4004018197   1.6077  133171   9   0  2030043136\n",
       "4   4004018197   2.1197  133171  10   0  2046820352\n",
       "5   4004018197   2.6317  133171  11   0  2063597568\n",
       "6   4004018197   3.1437  133171  12   0  2080374784\n",
       "7   4004018197   3.6557  133171  13   0  2097152000\n",
       "8   4004018197   4.1677  133171  14   0  2113929216\n",
       "9   4004018197   4.6797  133171  15   0  2130706432\n",
       "10  4004018197   5.1917  133171   0   0  1879048192\n",
       "11  4004018197   5.7037  133171   1   0  1895825408\n",
       "12  4004018197   6.2157  133171   2   0  1912602624\n",
       "13  4004018197   6.7277  133171   3   0  1929379840\n",
       "14  4004018197   7.2397  133171   4   0  1946157056\n",
       "15  4004018197   7.7517  133171   5   0  1962934272\n",
       "16  4004018197   8.2637  133171   6   0  1979711488\n",
       "17  4004018197   8.7757  133171   7   0  1996488704\n",
       "18  4004018197   9.2877  133171   8   0  2013265920\n",
       "19  4004018197   9.7997  133171   9   0  2030043136\n",
       "20  4004018197  10.3117  133171  10   0  2046820352\n",
       "21  4004018197  10.8237  133171  11   0  2063597568\n",
       "22  4004018197  11.3357  133171  12   0  2080374784\n",
       "23  4004018197  11.8477  133171  13   0  2097152000\n",
       "24  4004018197  12.3596  133171  14   0  2113929216\n",
       "25  4004018197  12.8716  133171  15   0  2130706432\n",
       "26  4004018197  13.3836  133171   0   0  1879048192\n",
       "27  4004018197  13.8956  133171   1   0  1895825408\n",
       "28  4004018197  14.4076  133171   2   0  1912602624\n",
       "29  4004018197  14.9196  133171   3   0  1929379840"
      ]
     },
     "execution_count": 10,
     "metadata": {},
     "output_type": "execute_result"
    }
   ],
   "source": [
    "data_df = pd.DataFrame.from_records(data)\n",
    "data_df.head(30)"
   ]
  },
  {
   "cell_type": "code",
   "execution_count": 21,
   "metadata": {},
   "outputs": [],
   "source": [
    "param_dict = {}\n",
    "for param in params:\n",
    "    data = np.fromfile(path + '/' + param + '_' + path + '_00', dtype=dt_1)\n",
    "    param_dict[param] = pd.DataFrame.from_records(data)"
   ]
  },
  {
   "cell_type": "code",
   "execution_count": 56,
   "metadata": {},
   "outputs": [],
   "source": [
    "dt_2 = np.dtype([\n",
    "    ('f0', 'u4'),\n",
    "    ('f1', 'f8'),\n",
    "    ('f2', 'u4'),\n",
    "    ('f3', 'u4'),\n",
    "    ('f4', 'u4'),\n",
    "    ('f5', 'u4'),\n",
    "    ('f6', 'u4'),\n",
    "                ])"
   ]
  },
  {
   "cell_type": "code",
   "execution_count": 68,
   "metadata": {},
   "outputs": [],
   "source": [
    "dt_3 = np.dtype([\n",
    "    ('f0', 'u4'),\n",
    "    ('f1', 'f8'),\n",
    "    ('f2', 'u4'),\n",
    "    ('f3', 'f8'),\n",
    "    ('f4', 'u4'),\n",
    "    ('f5', 'u4'),\n",
    "                ])"
   ]
  },
  {
   "cell_type": "code",
   "execution_count": 69,
   "metadata": {},
   "outputs": [],
   "source": [
    "data_proc_1 = np.fromfile(path + '/' + '5257' + '_' + path + '_00', dtype=dt_3)\n",
    "data_proc_2 = np.fromfile(path + '/' + '5318' + '_' + path + '_00', dtype=dt_3)\n",
    "df_proc_1 = pd.DataFrame.from_records(data_proc_1)\n",
    "df_proc_2 = pd.DataFrame.from_records(data_proc_2)"
   ]
  },
  {
   "cell_type": "code",
   "execution_count": 71,
   "metadata": {},
   "outputs": [
    {
     "data": {
      "text/plain": [
       "[<matplotlib.lines.Line2D at 0x7fd106776e50>]"
      ]
     },
     "execution_count": 71,
     "metadata": {},
     "output_type": "execute_result"
    },
    {
     "data": {
      "image/png": "[encoded data removed]",
      "text/plain": [
       "<Figure size 432x288 with 1 Axes>"
      ]
     },
     "metadata": {
      "needs_background": "light"
     },
     "output_type": "display_data"
    }
   ],
   "source": [
    "plt.plot(df_proc_2.f3)"
   ]
  },
  {
   "cell_type": "code",
   "execution_count": 73,
   "metadata": {},
   "outputs": [
    {
     "data": {
      "text/html": [
       "<div>\n",
       "<style scoped>\n",
       "    .dataframe tbody tr th:only-of-type {\n",
       "        vertical-align: middle;\n",
       "    }\n",
       "\n",
       "    .dataframe tbody tr th {\n",
       "        vertical-align: top;\n",
       "    }\n",
       "\n",
       "    .dataframe thead th {\n",
       "        text-align: right;\n",
       "    }\n",
       "</style>\n",
       "<table border=\"1\" class=\"dataframe\">\n",
       "  <thead>\n",
       "    <tr style=\"text-align: right;\">\n",
       "      <th></th>\n",
       "      <th>f0</th>\n",
       "      <th>f1</th>\n",
       "      <th>f2</th>\n",
       "      <th>f3</th>\n",
       "      <th>f4</th>\n",
       "      <th>f5</th>\n",
       "    </tr>\n",
       "  </thead>\n",
       "  <tbody>\n",
       "    <tr>\n",
       "      <th>0</th>\n",
       "      <td>4004018197</td>\n",
       "      <td>4.1677</td>\n",
       "      <td>5257</td>\n",
       "      <td>0.0010</td>\n",
       "      <td>0</td>\n",
       "      <td>176160768</td>\n",
       "    </tr>\n",
       "    <tr>\n",
       "      <th>1</th>\n",
       "      <td>4004018197</td>\n",
       "      <td>12.3596</td>\n",
       "      <td>5257</td>\n",
       "      <td>0.0016</td>\n",
       "      <td>0</td>\n",
       "      <td>276824064</td>\n",
       "    </tr>\n",
       "    <tr>\n",
       "      <th>2</th>\n",
       "      <td>4004018197</td>\n",
       "      <td>20.5516</td>\n",
       "      <td>5257</td>\n",
       "      <td>0.0020</td>\n",
       "      <td>0</td>\n",
       "      <td>343932928</td>\n",
       "    </tr>\n",
       "    <tr>\n",
       "      <th>3</th>\n",
       "      <td>4004018197</td>\n",
       "      <td>28.7436</td>\n",
       "      <td>5257</td>\n",
       "      <td>0.0024</td>\n",
       "      <td>0</td>\n",
       "      <td>411041792</td>\n",
       "    </tr>\n",
       "    <tr>\n",
       "      <th>4</th>\n",
       "      <td>4004018197</td>\n",
       "      <td>36.9356</td>\n",
       "      <td>5257</td>\n",
       "      <td>0.0024</td>\n",
       "      <td>0</td>\n",
       "      <td>411041792</td>\n",
       "    </tr>\n",
       "  </tbody>\n",
       "</table>\n",
       "</div>"
      ],
      "text/plain": [
       "           f0       f1    f2      f3  f4         f5\n",
       "0  4004018197   4.1677  5257  0.0010   0  176160768\n",
       "1  4004018197  12.3596  5257  0.0016   0  276824064\n",
       "2  4004018197  20.5516  5257  0.0020   0  343932928\n",
       "3  4004018197  28.7436  5257  0.0024   0  411041792\n",
       "4  4004018197  36.9356  5257  0.0024   0  411041792"
      ]
     },
     "execution_count": 73,
     "metadata": {},
     "output_type": "execute_result"
    }
   ],
   "source": [
    "df_proc_1.head()"
   ]
  },
  {
   "cell_type": "code",
   "execution_count": 44,
   "metadata": {},
   "outputs": [],
   "source": [
    "data = np.fromfile(path + '/' + '6158' + '_' + path + '_00', dtype=dt_2)\n",
    "df_float = pd.DataFrame.from_records(data)"
   ]
  },
  {
   "cell_type": "code",
   "execution_count": 45,
   "metadata": {},
   "outputs": [
    {
     "data": {
      "text/html": [
       "<div>\n",
       "<style scoped>\n",
       "    .dataframe tbody tr th:only-of-type {\n",
       "        vertical-align: middle;\n",
       "    }\n",
       "\n",
       "    .dataframe tbody tr th {\n",
       "        vertical-align: top;\n",
       "    }\n",
       "\n",
       "    .dataframe thead th {\n",
       "        text-align: right;\n",
       "    }\n",
       "</style>\n",
       "<table border=\"1\" class=\"dataframe\">\n",
       "  <thead>\n",
       "    <tr style=\"text-align: right;\">\n",
       "      <th></th>\n",
       "      <th>f0</th>\n",
       "      <th>f1</th>\n",
       "      <th>f2</th>\n",
       "      <th>f3</th>\n",
       "      <th>f4</th>\n",
       "      <th>f5</th>\n",
       "      <th>f6</th>\n",
       "    </tr>\n",
       "  </thead>\n",
       "  <tbody>\n",
       "    <tr>\n",
       "      <th>0</th>\n",
       "      <td>4004018197</td>\n",
       "      <td>0.5837</td>\n",
       "      <td>137230</td>\n",
       "      <td>0</td>\n",
       "      <td>0</td>\n",
       "      <td>0</td>\n",
       "      <td>0</td>\n",
       "    </tr>\n",
       "    <tr>\n",
       "      <th>1</th>\n",
       "      <td>4004018197</td>\n",
       "      <td>1.6077</td>\n",
       "      <td>137230</td>\n",
       "      <td>0</td>\n",
       "      <td>0</td>\n",
       "      <td>0</td>\n",
       "      <td>0</td>\n",
       "    </tr>\n",
       "    <tr>\n",
       "      <th>2</th>\n",
       "      <td>4004018197</td>\n",
       "      <td>2.6317</td>\n",
       "      <td>137230</td>\n",
       "      <td>0</td>\n",
       "      <td>0</td>\n",
       "      <td>0</td>\n",
       "      <td>0</td>\n",
       "    </tr>\n",
       "    <tr>\n",
       "      <th>3</th>\n",
       "      <td>4004018197</td>\n",
       "      <td>3.6557</td>\n",
       "      <td>137230</td>\n",
       "      <td>0</td>\n",
       "      <td>0</td>\n",
       "      <td>0</td>\n",
       "      <td>0</td>\n",
       "    </tr>\n",
       "    <tr>\n",
       "      <th>4</th>\n",
       "      <td>4004018197</td>\n",
       "      <td>4.6797</td>\n",
       "      <td>137230</td>\n",
       "      <td>0</td>\n",
       "      <td>0</td>\n",
       "      <td>0</td>\n",
       "      <td>0</td>\n",
       "    </tr>\n",
       "  </tbody>\n",
       "</table>\n",
       "</div>"
      ],
      "text/plain": [
       "           f0      f1      f2  f3  f4  f5  f6\n",
       "0  4004018197  0.5837  137230   0   0   0   0\n",
       "1  4004018197  1.6077  137230   0   0   0   0\n",
       "2  4004018197  2.6317  137230   0   0   0   0\n",
       "3  4004018197  3.6557  137230   0   0   0   0\n",
       "4  4004018197  4.6797  137230   0   0   0   0"
      ]
     },
     "execution_count": 45,
     "metadata": {},
     "output_type": "execute_result"
    }
   ],
   "source": [
    "df_float.head()"
   ]
  },
  {
   "cell_type": "code",
   "execution_count": 77,
   "metadata": {},
   "outputs": [],
   "source": [
    "param_dict_2 = {}\n",
    "for param in params:\n",
    "    data = np.fromfile(path + '/' + param + '_' + path + '_00', dtype=dt_3)\n",
    "    param_dict_2[param] = pd.DataFrame.from_records(data)"
   ]
  },
  {
   "cell_type": "code",
   "execution_count": 79,
   "metadata": {},
   "outputs": [
    {
     "data": {
      "image/png": "[encoded data removed]",
      "text/plain": [
       "<Figure size 432x288 with 1 Axes>"
      ]
     },
     "metadata": {
      "needs_background": "light"
     },
     "output_type": "display_data"
    },
    {
     "data": {
      "image/png": "[encoded data removed]",
      "text/plain": [
       "<Figure size 432x288 with 1 Axes>"
      ]
     },
     "metadata": {
      "needs_background": "light"
     },
     "output_type": "display_data"
    },
    {
     "data": {
      "image/png": "[encoded data removed]",
      "text/plain": [
       "<Figure size 432x288 with 1 Axes>"
      ]
     },
     "metadata": {
      "needs_background": "light"
     },
     "output_type": "display_data"
    },
    {
     "data": {
      "image/png": "[encoded data removed]",
      "text/plain": [
       "<Figure size 432x288 with 1 Axes>"
      ]
     },
     "metadata": {
      "needs_background": "light"
     },
     "output_type": "display_data"
    },
    {
     "data": {
      "image/png": "[encoded data removed]",
      "text/plain": [
       "<Figure size 432x288 with 1 Axes>"
      ]
     },
     "metadata": {
      "needs_background": "light"
     },
     "output_type": "display_data"
    },
    {
     "data": {
      "image/png": "[encoded data removed]",
      "text/plain": [
       "<Figure size 432x288 with 1 Axes>"
      ]
     },
     "metadata": {
      "needs_background": "light"
     },
     "output_type": "display_data"
    },
    {
     "data": {
      "image/png": "[encoded data removed]",
      "text/plain": [
       "<Figure size 432x288 with 1 Axes>"
      ]
     },
     "metadata": {
      "needs_background": "light"
     },
     "output_type": "display_data"
    },
    {
     "data": {
      "image/png": "[encoded data removed]",
      "text/plain": [
       "<Figure size 432x288 with 1 Axes>"
      ]
     },
     "metadata": {
      "needs_background": "light"
     },
     "output_type": "display_data"
    }
   ],
   "source": [
    "for param in params:\n",
    "    plt.plot(param_dict_2[param].f3)\n",
    "    plt.show()"
   ]
  },
  {
   "cell_type": "code",
   "execution_count": 75,
   "metadata": {},
   "outputs": [
    {
     "data": {
      "text/plain": [
       "{}"
      ]
     },
     "execution_count": 75,
     "metadata": {},
     "output_type": "execute_result"
    }
   ],
   "source": [
    "param_dict_2"
   ]
  }
 ],
 "metadata": {
  "kernelspec": {
   "display_name": "Python 3",
   "language": "python",
   "name": "python3"
  },
  "language_info": {
   "codemirror_mode": {
    "name": "ipython",
    "version": 3
   },
   "file_extension": ".py",
   "mimetype": "text/x-python",
   "name": "python",
   "nbconvert_exporter": "python",
   "pygments_lexer": "ipython3",
   "version": "3.7.7"
  }
 },
 "nbformat": 4,
 "nbformat_minor": 4
}
